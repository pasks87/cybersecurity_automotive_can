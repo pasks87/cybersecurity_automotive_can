{
 "cells": [
  {
   "cell_type": "markdown",
   "metadata": {},
   "source": [
    "Prima di utilizzare l'interfaccia CAN sulla pynq è necessario caricare sull'FPGA *can.bit* che abilita il controller e assegna ai pin CAN_TX e CAN_RX i pin JB2_p e JB2_n sul PMODB. Tentare di utilizzare l'interfaccia CAN prima di far questo comporterebbe il blocco del controller (questo perchè di default sull'FPGA viene caricato *base.bit* in cui il controller CAN è disabilitato)"
   ]
  },
  {
   "cell_type": "code",
   "execution_count": 1,
   "metadata": {},
   "outputs": [
    {
     "data": {
      "application/javascript": [
       "\n",
       "require(['notebook/js/codecell'], function(codecell) {\n",
       "  codecell.CodeCell.options_default.highlight_modes[\n",
       "      'magic_text/x-csrc'] = {'reg':[/^%%microblaze/]};\n",
       "  Jupyter.notebook.events.one('kernel_ready.Kernel', function(){\n",
       "      Jupyter.notebook.get_cells().map(function(cell){\n",
       "          if (cell.cell_type == 'code'){ cell.auto_highlight(); } }) ;\n",
       "  });\n",
       "});\n"
      ]
     },
     "metadata": {},
     "output_type": "display_data"
    },
    {
     "data": {
      "text/plain": [
       "0"
      ]
     },
     "execution_count": 1,
     "metadata": {},
     "output_type": "execute_result"
    }
   ],
   "source": [
    "from pynq import Overlay\n",
    "import os\n",
    "ol = Overlay(\"./can.bit\")\n",
    "# Abilito l'uso dell'interfaccia can su PmodB\n",
    "\n",
    "os.system(\"ip link set can1 type can bitrate 500000\")\n",
    "os.system(\"ip link set can1 up\")\n",
    "# Configurata ed abilitata l'interfaccia can1"
   ]
  },
  {
   "cell_type": "code",
   "execution_count": 1,
   "metadata": {},
   "outputs": [],
   "source": [
    "import sys\n",
    "\n",
    "if \"../carla_simulator\" not in sys.path:\n",
    "    sys.path.append(\"../carla_simulator\")\n",
    "    \n",
    "if \"../ids\" not in sys.path:\n",
    "    sys.path.append(\"../ids\")\n",
    "\n",
    "import pomegranate\n",
    "from bayesClasses import *\n",
    "from idsClasses import *\n",
    "import matplotlib.pyplot as plt\n",
    "import numpy as np\n",
    "import time\n",
    "import can\n",
    "from can_utilities import *\n",
    "from config import *\n",
    "import cantools\n",
    "import serial\n",
    "from can.interface import Bus\n",
    "import math\n",
    "import os.path\n",
    "import timeit\n",
    "from timeit import default_timer as timer"
   ]
  },
  {
   "cell_type": "markdown",
   "metadata": {},
   "source": [
    "Nella cella seguente viene definito l'ids a partire dal file *.xml* ottenuto grazie a weka"
   ]
  },
  {
   "cell_type": "code",
   "execution_count": 2,
   "metadata": {
    "scrolled": false
   },
   "outputs": [],
   "source": [
    "name_file = \"graph.xml\"\n",
    "bg = BayesGraph(name_file)\n",
    "ids = IdsClassBayes(bg)"
   ]
  },
  {
   "cell_type": "code",
   "execution_count": 3,
   "metadata": {},
   "outputs": [
    {
     "name": "stdout",
     "output_type": "stream",
     "text": [
      "{'steer': ['(-inf--0.777778]', '(-0.777778--0.555556]', '(-0.555556--0.333333]', '(-0.333333--0.111111]', '(-0.111111-0.111111]', '(0.111111-0.333333]', '(0.333333-0.555556]', '(0.555556-0.777778]', '(0.777778-inf)'], 'abs_steer': ['(-inf-0.2]', '(0.2-0.4]', '(0.4-0.6]', '(0.6-0.8]', '(0.8-inf)'], 'throttle': ['(-inf-0.25]', '(0.25-0.5]', '(0.5-0.75]', '(0.75-inf)'], 'brake': ['(-inf-0.25]', '(0.25-0.5]', '(0.5-0.75]', '(0.75-inf)'], 'speed': ['(-inf-0.125]', '(0.125-0.25]', '(0.25-0.375]', '(0.375-0.5]', '(0.5-0.625]', '(0.625-0.75]', '(0.75-0.875]', '(0.875-inf)'], 'attack': ['(-inf-0.5]', '(0.5-inf)']}\n",
      "{'steer': ['abs_steer'], 'abs_steer': [], 'throttle': ['abs_steer', 'speed', 'attack', 'steer'], 'brake': ['throttle', 'attack', 'abs_steer'], 'speed': ['attack', 'steer', 'abs_steer'], 'attack': ['abs_steer', 'steer']}\n",
      "['abs_steer', 'steer', 'attack', 'speed', 'throttle', 'brake']\n"
     ]
    }
   ],
   "source": [
    "print(bg.name_classes_nodes)\n",
    "print(bg.parents)\n",
    "# for node, cpt in bg.cpt_nodes.items():\n",
    "#     print(node)\n",
    "#     print(cpt)\n",
    "print(bg.nodes_list)"
   ]
  },
  {
   "cell_type": "markdown",
   "metadata": {},
   "source": [
    "Nella cella seguente vengono recuperate le informazioni dai messaggi CAN ricevuti sul bus e viene richiamata la rete bayesiana. Inoltre vengono scritte in un file di log informazioni di interesse:\n",
    "* Numero della classificazione\n",
    "* Tempo in cui la rete bayesiana effettua la predizione\n",
    "* Stato dei parametri del veicolo\n",
    "* Risultato della predizione effettuata dalla rete\n",
    "* Se è in corso o meno un attacco al veicolo"
   ]
  },
  {
   "cell_type": "code",
   "execution_count": 4,
   "metadata": {
    "scrolled": false
   },
   "outputs": [
    {
     "name": "stdout",
     "output_type": "stream",
     "text": [
      "--------------attacco riconosciuto-------------\n",
      "--------------attacco riconosciuto-------------\n",
      "--------------attacco riconosciuto-------------\n",
      "--------------attacco riconosciuto-------------\n",
      "--------------attacco riconosciuto-------------\n",
      "--------------attacco riconosciuto-------------\n",
      "--------------attacco riconosciuto-------------\n",
      "--------------attacco riconosciuto-------------\n",
      "--------------attacco riconosciuto-------------\n",
      "--------------attacco riconosciuto-------------\n",
      "--------------attacco riconosciuto-------------\n",
      "--------------attacco riconosciuto-------------\n",
      "--------------attacco riconosciuto-------------\n",
      "--------------attacco riconosciuto-------------\n",
      "--------------attacco riconosciuto-------------\n",
      "--------------attacco riconosciuto-------------\n",
      "--------------attacco riconosciuto-------------\n",
      "--------------attacco riconosciuto-------------\n",
      "--------------attacco riconosciuto-------------\n",
      "--------------attacco riconosciuto-------------\n",
      "--------------attacco riconosciuto-------------\n",
      "--------------attacco riconosciuto-------------\n",
      "--------------attacco riconosciuto-------------\n",
      "--------------attacco riconosciuto-------------\n",
      "--------------attacco riconosciuto-------------\n",
      "--------------attacco riconosciuto-------------\n"
     ]
    },
    {
     "ename": "KeyboardInterrupt",
     "evalue": "",
     "output_type": "error",
     "traceback": [
      "\u001b[0;31m---------------------------------------------------------------------------\u001b[0m",
      "\u001b[0;31mKeyboardInterrupt\u001b[0m                         Traceback (most recent call last)",
      "\u001b[0;32m<ipython-input-4-21a227fa6e9d>\u001b[0m in \u001b[0;36m<module>\u001b[0;34m()\u001b[0m\n\u001b[1;32m     23\u001b[0m \u001b[0;32mtry\u001b[0m\u001b[0;34m:\u001b[0m\u001b[0;34m\u001b[0m\u001b[0m\n\u001b[1;32m     24\u001b[0m     \u001b[0;32mwhile\u001b[0m\u001b[0;34m(\u001b[0m\u001b[0;32mTrue\u001b[0m\u001b[0;34m)\u001b[0m\u001b[0;34m:\u001b[0m\u001b[0;34m\u001b[0m\u001b[0m\n\u001b[0;32m---> 25\u001b[0;31m         \u001b[0mmsg\u001b[0m \u001b[0;34m=\u001b[0m \u001b[0mbus\u001b[0m\u001b[0;34m.\u001b[0m\u001b[0mrecv\u001b[0m\u001b[0;34m(\u001b[0m\u001b[0;34m)\u001b[0m\u001b[0;34m\u001b[0m\u001b[0m\n\u001b[0m\u001b[1;32m     26\u001b[0m         \u001b[0mtimestamp\u001b[0m \u001b[0;34m=\u001b[0m \u001b[0mmsg\u001b[0m\u001b[0;34m.\u001b[0m\u001b[0mtimestamp\u001b[0m\u001b[0;34m\u001b[0m\u001b[0m\n\u001b[1;32m     27\u001b[0m         \u001b[0mprint\u001b[0m\u001b[0;34m(\u001b[0m\u001b[0mstr\u001b[0m\u001b[0;34m(\u001b[0m\u001b[0mmsg_cont\u001b[0m\u001b[0;34m)\u001b[0m \u001b[0;34m+\u001b[0m \u001b[0mstr\u001b[0m\u001b[0;34m(\u001b[0m\u001b[0mmsg\u001b[0m\u001b[0;34m)\u001b[0m\u001b[0;34m,\u001b[0m \u001b[0mfile\u001b[0m\u001b[0;34m=\u001b[0m\u001b[0mlog_file\u001b[0m\u001b[0;34m)\u001b[0m\u001b[0;34m\u001b[0m\u001b[0m\n",
      "\u001b[0;32m/usr/local/lib/python3.6/dist-packages/can/bus.py\u001b[0m in \u001b[0;36mrecv\u001b[0;34m(self, timeout)\u001b[0m\n\u001b[1;32m     81\u001b[0m \u001b[0;34m\u001b[0m\u001b[0m\n\u001b[1;32m     82\u001b[0m             \u001b[0;31m# try to get a message\u001b[0m\u001b[0;34m\u001b[0m\u001b[0;34m\u001b[0m\u001b[0m\n\u001b[0;32m---> 83\u001b[0;31m             \u001b[0mmsg\u001b[0m\u001b[0;34m,\u001b[0m \u001b[0malready_filtered\u001b[0m \u001b[0;34m=\u001b[0m \u001b[0mself\u001b[0m\u001b[0;34m.\u001b[0m\u001b[0m_recv_internal\u001b[0m\u001b[0;34m(\u001b[0m\u001b[0mtimeout\u001b[0m\u001b[0;34m=\u001b[0m\u001b[0mtime_left\u001b[0m\u001b[0;34m)\u001b[0m\u001b[0;34m\u001b[0m\u001b[0m\n\u001b[0m\u001b[1;32m     84\u001b[0m \u001b[0;34m\u001b[0m\u001b[0m\n\u001b[1;32m     85\u001b[0m             \u001b[0;31m# return it, if it matches\u001b[0m\u001b[0;34m\u001b[0m\u001b[0;34m\u001b[0m\u001b[0m\n",
      "\u001b[0;32m/usr/local/lib/python3.6/dist-packages/can/interfaces/socketcan/socketcan.py\u001b[0m in \u001b[0;36m_recv_internal\u001b[0;34m(self, timeout)\u001b[0m\n\u001b[1;32m    580\u001b[0m             \u001b[0;31m# get all sockets that are ready (can be a list with a single value\u001b[0m\u001b[0;34m\u001b[0m\u001b[0;34m\u001b[0m\u001b[0m\n\u001b[1;32m    581\u001b[0m             \u001b[0;31m# being self.socket or an empty list if self.socket is not ready)\u001b[0m\u001b[0;34m\u001b[0m\u001b[0;34m\u001b[0m\u001b[0m\n\u001b[0;32m--> 582\u001b[0;31m             \u001b[0mready_receive_sockets\u001b[0m\u001b[0;34m,\u001b[0m \u001b[0m_\u001b[0m\u001b[0;34m,\u001b[0m \u001b[0m_\u001b[0m \u001b[0;34m=\u001b[0m \u001b[0mselect\u001b[0m\u001b[0;34m.\u001b[0m\u001b[0mselect\u001b[0m\u001b[0;34m(\u001b[0m\u001b[0;34m[\u001b[0m\u001b[0mself\u001b[0m\u001b[0;34m.\u001b[0m\u001b[0msocket\u001b[0m\u001b[0;34m]\u001b[0m\u001b[0;34m,\u001b[0m \u001b[0;34m[\u001b[0m\u001b[0;34m]\u001b[0m\u001b[0;34m,\u001b[0m \u001b[0;34m[\u001b[0m\u001b[0;34m]\u001b[0m\u001b[0;34m,\u001b[0m \u001b[0mtimeout\u001b[0m\u001b[0;34m)\u001b[0m\u001b[0;34m\u001b[0m\u001b[0m\n\u001b[0m\u001b[1;32m    583\u001b[0m         \u001b[0;32mexcept\u001b[0m \u001b[0msocket\u001b[0m\u001b[0;34m.\u001b[0m\u001b[0merror\u001b[0m \u001b[0;32mas\u001b[0m \u001b[0mexc\u001b[0m\u001b[0;34m:\u001b[0m\u001b[0;34m\u001b[0m\u001b[0m\n\u001b[1;32m    584\u001b[0m             \u001b[0;31m# something bad happened (e.g. the interface went down)\u001b[0m\u001b[0;34m\u001b[0m\u001b[0;34m\u001b[0m\u001b[0m\n",
      "\u001b[0;31mKeyboardInterrupt\u001b[0m: "
     ]
    }
   ],
   "source": [
    "bus = Bus('can1',bustype='socketcan',fd=True)\n",
    "db = cantools.database.load_file(db_name)\n",
    "\"\"\"Abilitazione del bus per la ricezione\"\"\"\n",
    "\n",
    "flag_calc_belief = False\n",
    "\n",
    "if not os.path.isdir(\"log\"):\n",
    "    os.mkdir(\"log\")\n",
    "log_file_name = time.strftime(\"%d_%m_%y-%H_%M_%S.txt\", time.localtime())\n",
    "log_file_name = os.path.abspath(os.path.join(\"log\", log_file_name))\n",
    "log_file = open(log_file_name, \"w\")\n",
    "# inizializzare con i nodi a partire dai quali calcolare la probabilità a posteriori\n",
    "# se i nodi cambiano ad ogni ciclo reinizializzare la lista ad ogni ciclo\n",
    "list_evidence_node = ['steer', 'abs_steer', 'throttle', 'speed', 'brake']\n",
    "status_buf = StatusBuffer(bg.nodes_list)\n",
    "msg_cont = 0\n",
    "\n",
    "ids_msg = can.Message(arbitration_id=0, data=[255])\n",
    "cont_bayes = 0 #numero di volte che viene richiamata la rete bayesiana\n",
    "flag_16=0\n",
    "\n",
    "attack_index = bg.nodes_list.index('attack')\n",
    "try:\n",
    "    while(True):\n",
    "        msg = bus.recv()\n",
    "        timestamp = msg.timestamp\n",
    "        print(str(msg_cont) + str(msg), file=log_file)\n",
    "        msg_cont += 1\n",
    "        if msg.arbitration_id < 5:\n",
    "            rec_msg = messageCodec(db, msg=msg).get_data()\n",
    "            \n",
    "            \"\"\"Ricezione del messaggio\"\"\"\n",
    "            if rec_msg[0] == db.get_message_by_name(\"Steer\").frame_id:\n",
    "                degree_read = (rec_msg[1][\"Degree\"] - num_section_steer)\n",
    "                steer = degree_read / num_section_steer\n",
    "\n",
    "            elif rec_msg[0] == db.get_message_by_name(\"Pedal\").frame_id:\n",
    "                throttle_read = (rec_msg[1][\"Throttle\"])\n",
    "                brake_read = (rec_msg[1][\"Brake\"])\n",
    "                throttle = (throttle_read / num_section_pedals)/2\n",
    "                brake = (brake_read / num_section_pedals)/2\n",
    "                \n",
    "            elif rec_msg[0] == db.get_message_by_name(\"GearMsg\").frame_id:\n",
    "                gear = rec_msg[1][\"Gear\"]\n",
    "                reverse = rec_msg[1][\"Reverse\"]\n",
    "                reverse = bool(reverse)\n",
    "                gear = gear - 1\n",
    "                \n",
    "            elif rec_msg[0] == db.get_message_by_name(\"Status\").frame_id:\n",
    "                speed = rec_msg[1][\"Speed\"]/max_speed_spedometer\n",
    "                \n",
    "                \n",
    "                status_buf.add_status({'steer': steer, 'abs_steer':abs(steer), 'throttle': throttle, \\\n",
    "                                       'brake': brake, 'speed': speed}, timestamp)\n",
    "                if flag_16==7:\n",
    "                    flag_calc_belief = True\n",
    "                    flag_16=0\n",
    "                else:\n",
    "                    flag_16+=1\n",
    "            \"\"\"Calcolo della probabilità a posteriori\"\"\"\n",
    "            if flag_calc_belief:\n",
    "                last_status = status_buf.get_last_status()\n",
    "                dict_evidence = last_status.get_dict_by_keys(list_evidence_node)\n",
    "                start = timer()\n",
    "                pred, max_pred_class = ids.predict(dict_evidence)\n",
    "                end = timer()\n",
    "                print(\"classificazione numero: {}\".format(cont_bayes), file=log_file)\n",
    "                print(\"exec time: {}\".format(end - start), file=log_file)\n",
    "                print(\"status rete--------------------------\", file=log_file)\n",
    "                print(last_status, file=log_file)\n",
    "                print(\"predizione---------------------------\", file=log_file)\n",
    "                print(pred[attack_index], file=log_file)\n",
    "                if max_pred_class[attack_index] == '(0.5-inf)':\n",
    "                    print(\"--------------attacco riconosciuto-------------\")\n",
    "                    print(\"--------------attacco riconosciuto-------------\", file=log_file)\n",
    "                    bus.send(ids_msg)\n",
    "            \n",
    "                flag_calc_belief = False\n",
    "                cont_bayes += 1\n",
    "\n",
    "\n",
    "finally:\n",
    "\n",
    "    bus.shutdown()\n",
    "    log_file.close()"
   ]
  }
 ],
 "metadata": {
  "kernelspec": {
   "display_name": "Python 3",
   "language": "python",
   "name": "python3"
  },
  "language_info": {
   "codemirror_mode": {
    "name": "ipython",
    "version": 3
   },
   "file_extension": ".py",
   "mimetype": "text/x-python",
   "name": "python",
   "nbconvert_exporter": "python",
   "pygments_lexer": "ipython3",
   "version": "3.6.5"
  }
 },
 "nbformat": 4,
 "nbformat_minor": 2
}
